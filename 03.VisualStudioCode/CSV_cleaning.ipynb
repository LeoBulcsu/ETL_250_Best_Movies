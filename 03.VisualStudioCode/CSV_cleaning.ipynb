{
 "cells": [
  {
   "cell_type": "markdown",
   "metadata": {},
   "source": [
    "# IMPORTS\n",
    "For data cleaning and handling."
   ]
  },
  {
   "cell_type": "code",
   "execution_count": 1,
   "metadata": {},
   "outputs": [],
   "source": [
    "import numpy as np\n",
    "import pandas as pd\n",
    "import sys\n",
    "\n",
    "sys.path.append('/Users/mbp/Documents/IRONHACK/04.Classes/projects/ETL_250_Best_Movies/04.src/')\n",
    "\n",
    "from cleaning import check_nan"
   ]
  },
  {
   "cell_type": "markdown",
   "metadata": {},
   "source": [
    "# IMDB 250"
   ]
  },
  {
   "cell_type": "code",
   "execution_count": 11,
   "metadata": {},
   "outputs": [],
   "source": [
    "imdb = pd.read_csv('../02.data_csv/IMDB.csv')"
   ]
  },
  {
   "cell_type": "code",
   "execution_count": 20,
   "metadata": {},
   "outputs": [
    {
     "data": {
      "text/html": [
       "<div>\n",
       "<style scoped>\n",
       "    .dataframe tbody tr th:only-of-type {\n",
       "        vertical-align: middle;\n",
       "    }\n",
       "\n",
       "    .dataframe tbody tr th {\n",
       "        vertical-align: top;\n",
       "    }\n",
       "\n",
       "    .dataframe thead th {\n",
       "        text-align: right;\n",
       "    }\n",
       "</style>\n",
       "<table border=\"1\" class=\"dataframe\">\n",
       "  <thead>\n",
       "    <tr style=\"text-align: right;\">\n",
       "      <th></th>\n",
       "      <th>Unnamed: 0</th>\n",
       "      <th>Title</th>\n",
       "      <th>Release Year</th>\n",
       "      <th>Length</th>\n",
       "      <th>Parental</th>\n",
       "      <th>Director</th>\n",
       "      <th>Cast</th>\n",
       "      <th>IMDB rating</th>\n",
       "      <th>Plot</th>\n",
       "      <th>Image URL</th>\n",
       "      <th>IMDB Rank</th>\n",
       "    </tr>\n",
       "  </thead>\n",
       "  <tbody>\n",
       "    <tr>\n",
       "      <th>0</th>\n",
       "      <td>0</td>\n",
       "      <td>The Shawshank Redemption</td>\n",
       "      <td>1994</td>\n",
       "      <td>2h 22m</td>\n",
       "      <td>R</td>\n",
       "      <td>Frank Darabont</td>\n",
       "      <td>Tim Robbins , Andy Dufresne , Morgan Freeman ,...</td>\n",
       "      <td>9.3/10</td>\n",
       "      <td>Over the course of several years, two convicts...</td>\n",
       "      <td>https://m.media-amazon.com/images/M/MV5BNDE3OD...</td>\n",
       "      <td>1</td>\n",
       "    </tr>\n",
       "    <tr>\n",
       "      <th>1</th>\n",
       "      <td>1</td>\n",
       "      <td>The Godfather</td>\n",
       "      <td>1972</td>\n",
       "      <td>2h 55m</td>\n",
       "      <td>R</td>\n",
       "      <td>Francis Ford Coppola</td>\n",
       "      <td>Marlon Brando , Don Vito Corleone , Al Pacino ...</td>\n",
       "      <td>9.2/10</td>\n",
       "      <td>Don Vito Corleone, head of a mafia family, dec...</td>\n",
       "      <td>https://m.media-amazon.com/images/M/MV5BM2MyNj...</td>\n",
       "      <td>2</td>\n",
       "    </tr>\n",
       "    <tr>\n",
       "      <th>2</th>\n",
       "      <td>2</td>\n",
       "      <td>The Dark Knight</td>\n",
       "      <td>2008</td>\n",
       "      <td>2h 32m</td>\n",
       "      <td>PG-13</td>\n",
       "      <td>Christopher Nolan</td>\n",
       "      <td>Christian Bale , Bruce Wayne… , Heath Ledger ,...</td>\n",
       "      <td>9.0/10</td>\n",
       "      <td>When the menace known as the Joker wreaks havo...</td>\n",
       "      <td>https://m.media-amazon.com/images/M/MV5BMTMxNT...</td>\n",
       "      <td>3</td>\n",
       "    </tr>\n",
       "    <tr>\n",
       "      <th>3</th>\n",
       "      <td>3</td>\n",
       "      <td>The Godfather Part II</td>\n",
       "      <td>1974</td>\n",
       "      <td>3h 22m</td>\n",
       "      <td>R</td>\n",
       "      <td>Francis Ford Coppola</td>\n",
       "      <td>Al Pacino , Michael , Robert De Niro , Vito Co...</td>\n",
       "      <td>9.0/10</td>\n",
       "      <td>The early life and career of Vito Corleone in ...</td>\n",
       "      <td>https://m.media-amazon.com/images/M/MV5BMWMwMG...</td>\n",
       "      <td>4</td>\n",
       "    </tr>\n",
       "    <tr>\n",
       "      <th>4</th>\n",
       "      <td>4</td>\n",
       "      <td>12 Angry Men</td>\n",
       "      <td>1957</td>\n",
       "      <td>1h 36m</td>\n",
       "      <td>Approved</td>\n",
       "      <td>Sidney Lumet</td>\n",
       "      <td>Henry Fonda , Juror 8 , Lee J. Cobb , Juror 3 ...</td>\n",
       "      <td>9.0/10</td>\n",
       "      <td>The jury in a New York City murder trial is fr...</td>\n",
       "      <td>https://m.media-amazon.com/images/M/MV5BMWU4N2...</td>\n",
       "      <td>5</td>\n",
       "    </tr>\n",
       "  </tbody>\n",
       "</table>\n",
       "</div>"
      ],
      "text/plain": [
       "   Unnamed: 0                     Title  Release Year  Length  Parental  \\\n",
       "0           0  The Shawshank Redemption          1994  2h 22m         R   \n",
       "1           1             The Godfather          1972  2h 55m         R   \n",
       "2           2           The Dark Knight          2008  2h 32m     PG-13   \n",
       "3           3     The Godfather Part II          1974  3h 22m         R   \n",
       "4           4              12 Angry Men          1957  1h 36m  Approved   \n",
       "\n",
       "               Director                                               Cast  \\\n",
       "0        Frank Darabont  Tim Robbins , Andy Dufresne , Morgan Freeman ,...   \n",
       "1  Francis Ford Coppola  Marlon Brando , Don Vito Corleone , Al Pacino ...   \n",
       "2     Christopher Nolan  Christian Bale , Bruce Wayne… , Heath Ledger ,...   \n",
       "3  Francis Ford Coppola  Al Pacino , Michael , Robert De Niro , Vito Co...   \n",
       "4          Sidney Lumet  Henry Fonda , Juror 8 , Lee J. Cobb , Juror 3 ...   \n",
       "\n",
       "  IMDB rating                                               Plot  \\\n",
       "0      9.3/10  Over the course of several years, two convicts...   \n",
       "1      9.2/10  Don Vito Corleone, head of a mafia family, dec...   \n",
       "2      9.0/10  When the menace known as the Joker wreaks havo...   \n",
       "3      9.0/10  The early life and career of Vito Corleone in ...   \n",
       "4      9.0/10  The jury in a New York City murder trial is fr...   \n",
       "\n",
       "                                           Image URL  IMDB Rank  \n",
       "0  https://m.media-amazon.com/images/M/MV5BNDE3OD...          1  \n",
       "1  https://m.media-amazon.com/images/M/MV5BM2MyNj...          2  \n",
       "2  https://m.media-amazon.com/images/M/MV5BMTMxNT...          3  \n",
       "3  https://m.media-amazon.com/images/M/MV5BMWMwMG...          4  \n",
       "4  https://m.media-amazon.com/images/M/MV5BMWU4N2...          5  "
      ]
     },
     "execution_count": 20,
     "metadata": {},
     "output_type": "execute_result"
    }
   ],
   "source": [
    "IMDB = pd.DataFrame(imdb)\n",
    "IMDB.head()"
   ]
  },
  {
   "cell_type": "code",
   "execution_count": null,
   "metadata": {},
   "outputs": [],
   "source": [
    "IMDB = IMDB.drop('Unnamed: 0')"
   ]
  },
  {
   "cell_type": "code",
   "execution_count": 22,
   "metadata": {},
   "outputs": [],
   "source": [
    "IMDB = IMDB[['Title','Release Year','Length','Parental','Director','Cast','Plot','IMDB Rank','IMDB rating','Image URL']]"
   ]
  },
  {
   "cell_type": "code",
   "execution_count": 24,
   "metadata": {},
   "outputs": [
    {
     "name": "stdout",
     "output_type": "stream",
     "text": [
      "<class 'pandas.core.frame.DataFrame'>\n",
      "RangeIndex: 250 entries, 0 to 249\n",
      "Data columns (total 10 columns):\n",
      " #   Column        Non-Null Count  Dtype \n",
      "---  ------        --------------  ----- \n",
      " 0   Title         250 non-null    object\n",
      " 1   Release Year  250 non-null    int64 \n",
      " 2   Length        250 non-null    object\n",
      " 3   Parental      250 non-null    object\n",
      " 4   Director      250 non-null    object\n",
      " 5   Cast          250 non-null    object\n",
      " 6   Plot          250 non-null    object\n",
      " 7   IMDB Rank     250 non-null    int64 \n",
      " 8   IMDB rating   250 non-null    object\n",
      " 9   Image URL     250 non-null    object\n",
      "dtypes: int64(2), object(8)\n",
      "memory usage: 19.7+ KB\n"
     ]
    }
   ],
   "source": [
    "IMDB.info()"
   ]
  },
  {
   "cell_type": "code",
   "execution_count": 30,
   "metadata": {},
   "outputs": [],
   "source": [
    "IMDB['IMDB rating'] = IMDB['IMDB rating'].apply(lambda x: x.split('/')[0])"
   ]
  },
  {
   "cell_type": "code",
   "execution_count": 34,
   "metadata": {},
   "outputs": [],
   "source": [
    "IMDB['IMDB rating'] = IMDB['IMDB rating'].astype('float')"
   ]
  },
  {
   "cell_type": "code",
   "execution_count": 53,
   "metadata": {},
   "outputs": [
    {
     "name": "stdout",
     "output_type": "stream",
     "text": [
      "<class 'pandas.core.frame.DataFrame'>\n",
      "RangeIndex: 250 entries, 0 to 249\n",
      "Data columns (total 10 columns):\n",
      " #   Column        Non-Null Count  Dtype  \n",
      "---  ------        --------------  -----  \n",
      " 0   Title         250 non-null    object \n",
      " 1   Release Year  250 non-null    int64  \n",
      " 2   Length        250 non-null    object \n",
      " 3   Parental      250 non-null    object \n",
      " 4   Director      250 non-null    object \n",
      " 5   Cast          250 non-null    object \n",
      " 6   Plot          250 non-null    object \n",
      " 7   IMDB Rank     250 non-null    int64  \n",
      " 8   IMDB rating   250 non-null    float64\n",
      " 9   Image URL     250 non-null    object \n",
      "dtypes: float64(1), int64(2), object(7)\n",
      "memory usage: 19.7+ KB\n"
     ]
    }
   ],
   "source": [
    "IMDB.info()"
   ]
  },
  {
   "cell_type": "markdown",
   "metadata": {},
   "source": [
    "### Export to csv"
   ]
  },
  {
   "cell_type": "code",
   "execution_count": 54,
   "metadata": {},
   "outputs": [],
   "source": [
    "IMDB.to_csv('../02.data_csv/CLEAN/IMDB.CSV')"
   ]
  },
  {
   "cell_type": "markdown",
   "metadata": {},
   "source": [
    "# Cleaning of Rotten Tomatoes"
   ]
  },
  {
   "cell_type": "code",
   "execution_count": 55,
   "metadata": {},
   "outputs": [
    {
     "data": {
      "text/html": [
       "<div>\n",
       "<style scoped>\n",
       "    .dataframe tbody tr th:only-of-type {\n",
       "        vertical-align: middle;\n",
       "    }\n",
       "\n",
       "    .dataframe tbody tr th {\n",
       "        vertical-align: top;\n",
       "    }\n",
       "\n",
       "    .dataframe thead th {\n",
       "        text-align: right;\n",
       "    }\n",
       "</style>\n",
       "<table border=\"1\" class=\"dataframe\">\n",
       "  <thead>\n",
       "    <tr style=\"text-align: right;\">\n",
       "      <th></th>\n",
       "      <th>Unnamed: 0</th>\n",
       "      <th>Title</th>\n",
       "      <th>Tomatometer</th>\n",
       "      <th>Audience_Score</th>\n",
       "    </tr>\n",
       "  </thead>\n",
       "  <tbody>\n",
       "    <tr>\n",
       "      <th>0</th>\n",
       "      <td>0</td>\n",
       "      <td>The Shawshank Redemption</td>\n",
       "      <td>91%</td>\n",
       "      <td>98%</td>\n",
       "    </tr>\n",
       "    <tr>\n",
       "      <th>1</th>\n",
       "      <td>1</td>\n",
       "      <td>The Godfather</td>\n",
       "      <td>97%</td>\n",
       "      <td>98%</td>\n",
       "    </tr>\n",
       "    <tr>\n",
       "      <th>2</th>\n",
       "      <td>2</td>\n",
       "      <td>The Dark Knight</td>\n",
       "      <td>94%</td>\n",
       "      <td>94%</td>\n",
       "    </tr>\n",
       "    <tr>\n",
       "      <th>3</th>\n",
       "      <td>3</td>\n",
       "      <td>The Godfather Part II</td>\n",
       "      <td>96%</td>\n",
       "      <td>97%</td>\n",
       "    </tr>\n",
       "    <tr>\n",
       "      <th>4</th>\n",
       "      <td>4</td>\n",
       "      <td>12 Angry Men</td>\n",
       "      <td>97%</td>\n",
       "      <td>97%</td>\n",
       "    </tr>\n",
       "    <tr>\n",
       "      <th>...</th>\n",
       "      <td>...</td>\n",
       "      <td>...</td>\n",
       "      <td>...</td>\n",
       "      <td>...</td>\n",
       "    </tr>\n",
       "    <tr>\n",
       "      <th>245</th>\n",
       "      <td>245</td>\n",
       "      <td>Witness for the Prosecution</td>\n",
       "      <td>95%</td>\n",
       "      <td>95%</td>\n",
       "    </tr>\n",
       "    <tr>\n",
       "      <th>246</th>\n",
       "      <td>246</td>\n",
       "      <td>Paths of Glory</td>\n",
       "      <td>96%</td>\n",
       "      <td>95%</td>\n",
       "    </tr>\n",
       "    <tr>\n",
       "      <th>247</th>\n",
       "      <td>247</td>\n",
       "      <td>Inside Out</td>\n",
       "      <td>98%</td>\n",
       "      <td>89%</td>\n",
       "    </tr>\n",
       "    <tr>\n",
       "      <th>248</th>\n",
       "      <td>248</td>\n",
       "      <td>Hachi: A Dog's Tale</td>\n",
       "      <td>64%</td>\n",
       "      <td>84%</td>\n",
       "    </tr>\n",
       "    <tr>\n",
       "      <th>249</th>\n",
       "      <td>249</td>\n",
       "      <td>Gangs of Wasseypur</td>\n",
       "      <td>94%</td>\n",
       "      <td>90%</td>\n",
       "    </tr>\n",
       "  </tbody>\n",
       "</table>\n",
       "<p>250 rows × 4 columns</p>\n",
       "</div>"
      ],
      "text/plain": [
       "     Unnamed: 0                        Title Tomatometer Audience_Score\n",
       "0             0     The Shawshank Redemption         91%            98%\n",
       "1             1                The Godfather         97%            98%\n",
       "2             2              The Dark Knight         94%            94%\n",
       "3             3        The Godfather Part II         96%            97%\n",
       "4             4                 12 Angry Men         97%            97%\n",
       "..          ...                          ...         ...            ...\n",
       "245         245  Witness for the Prosecution         95%            95%\n",
       "246         246               Paths of Glory         96%            95%\n",
       "247         247                   Inside Out         98%            89%\n",
       "248         248          Hachi: A Dog's Tale         64%            84%\n",
       "249         249           Gangs of Wasseypur         94%            90%\n",
       "\n",
       "[250 rows x 4 columns]"
      ]
     },
     "execution_count": 55,
     "metadata": {},
     "output_type": "execute_result"
    }
   ],
   "source": [
    "rottenTomatoes = pd.read_csv('../02.data_csv/rottentomatoes.csv')\n",
    "RTdf = pd.DataFrame(rottenTomatoes)\n",
    "RTdf"
   ]
  },
  {
   "cell_type": "code",
   "execution_count": 56,
   "metadata": {},
   "outputs": [],
   "source": [
    "RTdf = RTdf.drop('Unnamed: 0', axis = 1)"
   ]
  },
  {
   "cell_type": "code",
   "execution_count": 61,
   "metadata": {},
   "outputs": [],
   "source": [
    "RTdf['Tomatometer'] = RTdf['Tomatometer'].apply(lambda x: int(x.split('%')[0])*0.1)"
   ]
  },
  {
   "cell_type": "code",
   "execution_count": 63,
   "metadata": {},
   "outputs": [],
   "source": [
    "RTdf['Audience_Score'] = RTdf['Audience_Score'].apply(lambda x: int(x.split('%')[0])*0.1)"
   ]
  },
  {
   "cell_type": "code",
   "execution_count": 64,
   "metadata": {},
   "outputs": [
    {
     "data": {
      "text/html": [
       "<div>\n",
       "<style scoped>\n",
       "    .dataframe tbody tr th:only-of-type {\n",
       "        vertical-align: middle;\n",
       "    }\n",
       "\n",
       "    .dataframe tbody tr th {\n",
       "        vertical-align: top;\n",
       "    }\n",
       "\n",
       "    .dataframe thead th {\n",
       "        text-align: right;\n",
       "    }\n",
       "</style>\n",
       "<table border=\"1\" class=\"dataframe\">\n",
       "  <thead>\n",
       "    <tr style=\"text-align: right;\">\n",
       "      <th></th>\n",
       "      <th>Title</th>\n",
       "      <th>Tomatometer</th>\n",
       "      <th>Audience_Score</th>\n",
       "    </tr>\n",
       "  </thead>\n",
       "  <tbody>\n",
       "    <tr>\n",
       "      <th>0</th>\n",
       "      <td>The Shawshank Redemption</td>\n",
       "      <td>9.1</td>\n",
       "      <td>9.8</td>\n",
       "    </tr>\n",
       "    <tr>\n",
       "      <th>1</th>\n",
       "      <td>The Godfather</td>\n",
       "      <td>9.7</td>\n",
       "      <td>9.8</td>\n",
       "    </tr>\n",
       "    <tr>\n",
       "      <th>2</th>\n",
       "      <td>The Dark Knight</td>\n",
       "      <td>9.4</td>\n",
       "      <td>9.4</td>\n",
       "    </tr>\n",
       "    <tr>\n",
       "      <th>3</th>\n",
       "      <td>The Godfather Part II</td>\n",
       "      <td>9.6</td>\n",
       "      <td>9.7</td>\n",
       "    </tr>\n",
       "    <tr>\n",
       "      <th>4</th>\n",
       "      <td>12 Angry Men</td>\n",
       "      <td>9.7</td>\n",
       "      <td>9.7</td>\n",
       "    </tr>\n",
       "    <tr>\n",
       "      <th>...</th>\n",
       "      <td>...</td>\n",
       "      <td>...</td>\n",
       "      <td>...</td>\n",
       "    </tr>\n",
       "    <tr>\n",
       "      <th>245</th>\n",
       "      <td>Witness for the Prosecution</td>\n",
       "      <td>9.5</td>\n",
       "      <td>9.5</td>\n",
       "    </tr>\n",
       "    <tr>\n",
       "      <th>246</th>\n",
       "      <td>Paths of Glory</td>\n",
       "      <td>9.6</td>\n",
       "      <td>9.5</td>\n",
       "    </tr>\n",
       "    <tr>\n",
       "      <th>247</th>\n",
       "      <td>Inside Out</td>\n",
       "      <td>9.8</td>\n",
       "      <td>8.9</td>\n",
       "    </tr>\n",
       "    <tr>\n",
       "      <th>248</th>\n",
       "      <td>Hachi: A Dog's Tale</td>\n",
       "      <td>6.4</td>\n",
       "      <td>8.4</td>\n",
       "    </tr>\n",
       "    <tr>\n",
       "      <th>249</th>\n",
       "      <td>Gangs of Wasseypur</td>\n",
       "      <td>9.4</td>\n",
       "      <td>9.0</td>\n",
       "    </tr>\n",
       "  </tbody>\n",
       "</table>\n",
       "<p>250 rows × 3 columns</p>\n",
       "</div>"
      ],
      "text/plain": [
       "                           Title  Tomatometer  Audience_Score\n",
       "0       The Shawshank Redemption          9.1             9.8\n",
       "1                  The Godfather          9.7             9.8\n",
       "2                The Dark Knight          9.4             9.4\n",
       "3          The Godfather Part II          9.6             9.7\n",
       "4                   12 Angry Men          9.7             9.7\n",
       "..                           ...          ...             ...\n",
       "245  Witness for the Prosecution          9.5             9.5\n",
       "246               Paths of Glory          9.6             9.5\n",
       "247                   Inside Out          9.8             8.9\n",
       "248          Hachi: A Dog's Tale          6.4             8.4\n",
       "249           Gangs of Wasseypur          9.4             9.0\n",
       "\n",
       "[250 rows x 3 columns]"
      ]
     },
     "execution_count": 64,
     "metadata": {},
     "output_type": "execute_result"
    }
   ],
   "source": [
    "RTdf"
   ]
  },
  {
   "cell_type": "code",
   "execution_count": 66,
   "metadata": {},
   "outputs": [
    {
     "name": "stdout",
     "output_type": "stream",
     "text": [
      "<class 'pandas.core.frame.DataFrame'>\n",
      "RangeIndex: 250 entries, 0 to 249\n",
      "Data columns (total 3 columns):\n",
      " #   Column          Non-Null Count  Dtype  \n",
      "---  ------          --------------  -----  \n",
      " 0   Title           250 non-null    object \n",
      " 1   Tomatometer     250 non-null    float64\n",
      " 2   Audience_Score  250 non-null    float64\n",
      "dtypes: float64(2), object(1)\n",
      "memory usage: 6.0+ KB\n"
     ]
    }
   ],
   "source": [
    "RTdf.info()"
   ]
  },
  {
   "cell_type": "markdown",
   "metadata": {},
   "source": [
    "### Export to csv"
   ]
  },
  {
   "cell_type": "code",
   "execution_count": 67,
   "metadata": {},
   "outputs": [],
   "source": [
    "RTdf.to_csv('../02.data_csv/CLEAN/RottenTomatoes.csv')"
   ]
  },
  {
   "cell_type": "markdown",
   "metadata": {},
   "source": [
    "# TMDB (The Movie Data Base)"
   ]
  },
  {
   "cell_type": "code",
   "execution_count": 68,
   "metadata": {},
   "outputs": [],
   "source": [
    "tmdb = pd.read_csv('../02.data_csv/TMDB.csv')"
   ]
  },
  {
   "cell_type": "code",
   "execution_count": 69,
   "metadata": {},
   "outputs": [],
   "source": [
    "TMDB = pd.DataFrame(tmdb)"
   ]
  },
  {
   "cell_type": "code",
   "execution_count": 71,
   "metadata": {},
   "outputs": [
    {
     "name": "stdout",
     "output_type": "stream",
     "text": [
      "<class 'pandas.core.frame.DataFrame'>\n",
      "RangeIndex: 250 entries, 0 to 249\n",
      "Data columns (total 7 columns):\n",
      " #   Column             Non-Null Count  Dtype  \n",
      "---  ------             --------------  -----  \n",
      " 0   Unnamed: 0         250 non-null    int64  \n",
      " 1   original_language  250 non-null    object \n",
      " 2   original_title     250 non-null    object \n",
      " 3   popularity         250 non-null    float64\n",
      " 4   title              250 non-null    object \n",
      " 5   vote_average       250 non-null    float64\n",
      " 6   vote_count         250 non-null    int64  \n",
      "dtypes: float64(2), int64(2), object(3)\n",
      "memory usage: 13.8+ KB\n"
     ]
    }
   ],
   "source": [
    "TMDB.info()"
   ]
  },
  {
   "cell_type": "code",
   "execution_count": 72,
   "metadata": {},
   "outputs": [],
   "source": [
    "TMDB = TMDB.drop('Unnamed: 0', axis = 1)"
   ]
  },
  {
   "cell_type": "code",
   "execution_count": 75,
   "metadata": {},
   "outputs": [],
   "source": [
    "TMDB = TMDB[['title','original_title','original_language','popularity','vote_average','vote_count']]"
   ]
  },
  {
   "cell_type": "code",
   "execution_count": 77,
   "metadata": {},
   "outputs": [],
   "source": [
    "TMDB['vote_average'] = TMDB['vote_average'].apply(lambda x: round(x, 1))"
   ]
  },
  {
   "cell_type": "code",
   "execution_count": 79,
   "metadata": {},
   "outputs": [],
   "source": [
    "TMDB = TMDB.rename(columns={'title':'Title', 'original_title': 'Org_Title', 'original_language': 'Language', 'vote_average':'TMDB Score'})"
   ]
  },
  {
   "cell_type": "code",
   "execution_count": 80,
   "metadata": {},
   "outputs": [
    {
     "data": {
      "text/html": [
       "<div>\n",
       "<style scoped>\n",
       "    .dataframe tbody tr th:only-of-type {\n",
       "        vertical-align: middle;\n",
       "    }\n",
       "\n",
       "    .dataframe tbody tr th {\n",
       "        vertical-align: top;\n",
       "    }\n",
       "\n",
       "    .dataframe thead th {\n",
       "        text-align: right;\n",
       "    }\n",
       "</style>\n",
       "<table border=\"1\" class=\"dataframe\">\n",
       "  <thead>\n",
       "    <tr style=\"text-align: right;\">\n",
       "      <th></th>\n",
       "      <th>Title</th>\n",
       "      <th>Org_Title</th>\n",
       "      <th>Language</th>\n",
       "      <th>popularity</th>\n",
       "      <th>TMDB Score</th>\n",
       "      <th>vote_count</th>\n",
       "    </tr>\n",
       "  </thead>\n",
       "  <tbody>\n",
       "    <tr>\n",
       "      <th>0</th>\n",
       "      <td>The Shawshank Redemption</td>\n",
       "      <td>The Shawshank Redemption</td>\n",
       "      <td>en</td>\n",
       "      <td>114.011</td>\n",
       "      <td>8.7</td>\n",
       "      <td>24848</td>\n",
       "    </tr>\n",
       "    <tr>\n",
       "      <th>1</th>\n",
       "      <td>The Godfather</td>\n",
       "      <td>The Godfather</td>\n",
       "      <td>en</td>\n",
       "      <td>157.034</td>\n",
       "      <td>8.7</td>\n",
       "      <td>18876</td>\n",
       "    </tr>\n",
       "    <tr>\n",
       "      <th>2</th>\n",
       "      <td>The Dark Knight</td>\n",
       "      <td>The Dark Knight</td>\n",
       "      <td>en</td>\n",
       "      <td>98.444</td>\n",
       "      <td>8.5</td>\n",
       "      <td>30834</td>\n",
       "    </tr>\n",
       "    <tr>\n",
       "      <th>3</th>\n",
       "      <td>The Godfather Part II</td>\n",
       "      <td>The Godfather Part II</td>\n",
       "      <td>en</td>\n",
       "      <td>76.862</td>\n",
       "      <td>8.6</td>\n",
       "      <td>11402</td>\n",
       "    </tr>\n",
       "    <tr>\n",
       "      <th>4</th>\n",
       "      <td>12 Angry Men</td>\n",
       "      <td>12 Angry Men</td>\n",
       "      <td>en</td>\n",
       "      <td>44.152</td>\n",
       "      <td>8.5</td>\n",
       "      <td>7759</td>\n",
       "    </tr>\n",
       "    <tr>\n",
       "      <th>...</th>\n",
       "      <td>...</td>\n",
       "      <td>...</td>\n",
       "      <td>...</td>\n",
       "      <td>...</td>\n",
       "      <td>...</td>\n",
       "      <td>...</td>\n",
       "    </tr>\n",
       "    <tr>\n",
       "      <th>245</th>\n",
       "      <td>The 400 Blows</td>\n",
       "      <td>Les Quatre Cents Coups</td>\n",
       "      <td>fr</td>\n",
       "      <td>14.289</td>\n",
       "      <td>8.1</td>\n",
       "      <td>1950</td>\n",
       "    </tr>\n",
       "    <tr>\n",
       "      <th>246</th>\n",
       "      <td>Persona</td>\n",
       "      <td>Persona</td>\n",
       "      <td>sv</td>\n",
       "      <td>21.229</td>\n",
       "      <td>8.2</td>\n",
       "      <td>1945</td>\n",
       "    </tr>\n",
       "    <tr>\n",
       "      <th>247</th>\n",
       "      <td>Life of Brian</td>\n",
       "      <td>Life of Brian</td>\n",
       "      <td>en</td>\n",
       "      <td>20.255</td>\n",
       "      <td>7.8</td>\n",
       "      <td>4030</td>\n",
       "    </tr>\n",
       "    <tr>\n",
       "      <th>248</th>\n",
       "      <td>Aladdin</td>\n",
       "      <td>Aladdin</td>\n",
       "      <td>en</td>\n",
       "      <td>44.335</td>\n",
       "      <td>7.1</td>\n",
       "      <td>9476</td>\n",
       "    </tr>\n",
       "    <tr>\n",
       "      <th>249</th>\n",
       "      <td>Gangs of Wasseypur - Part 1</td>\n",
       "      <td>गैंग्स ऑफ़ वास्सेपुर पार्ट - १</td>\n",
       "      <td>hi</td>\n",
       "      <td>10.137</td>\n",
       "      <td>7.1</td>\n",
       "      <td>331</td>\n",
       "    </tr>\n",
       "  </tbody>\n",
       "</table>\n",
       "<p>250 rows × 6 columns</p>\n",
       "</div>"
      ],
      "text/plain": [
       "                           Title                       Org_Title Language  \\\n",
       "0       The Shawshank Redemption        The Shawshank Redemption       en   \n",
       "1                  The Godfather                   The Godfather       en   \n",
       "2                The Dark Knight                 The Dark Knight       en   \n",
       "3          The Godfather Part II           The Godfather Part II       en   \n",
       "4                   12 Angry Men                    12 Angry Men       en   \n",
       "..                           ...                             ...      ...   \n",
       "245                The 400 Blows          Les Quatre Cents Coups       fr   \n",
       "246                      Persona                         Persona       sv   \n",
       "247                Life of Brian                   Life of Brian       en   \n",
       "248                      Aladdin                         Aladdin       en   \n",
       "249  Gangs of Wasseypur - Part 1  गैंग्स ऑफ़ वास्सेपुर पार्ट - १       hi   \n",
       "\n",
       "     popularity  TMDB Score  vote_count  \n",
       "0       114.011         8.7       24848  \n",
       "1       157.034         8.7       18876  \n",
       "2        98.444         8.5       30834  \n",
       "3        76.862         8.6       11402  \n",
       "4        44.152         8.5        7759  \n",
       "..          ...         ...         ...  \n",
       "245      14.289         8.1        1950  \n",
       "246      21.229         8.2        1945  \n",
       "247      20.255         7.8        4030  \n",
       "248      44.335         7.1        9476  \n",
       "249      10.137         7.1         331  \n",
       "\n",
       "[250 rows x 6 columns]"
      ]
     },
     "execution_count": 80,
     "metadata": {},
     "output_type": "execute_result"
    }
   ],
   "source": [
    "TMDB"
   ]
  },
  {
   "cell_type": "code",
   "execution_count": 81,
   "metadata": {},
   "outputs": [
    {
     "name": "stdout",
     "output_type": "stream",
     "text": [
      "<class 'pandas.core.frame.DataFrame'>\n",
      "RangeIndex: 250 entries, 0 to 249\n",
      "Data columns (total 6 columns):\n",
      " #   Column      Non-Null Count  Dtype  \n",
      "---  ------      --------------  -----  \n",
      " 0   Title       250 non-null    object \n",
      " 1   Org_Title   250 non-null    object \n",
      " 2   Language    250 non-null    object \n",
      " 3   popularity  250 non-null    float64\n",
      " 4   TMDB Score  250 non-null    float64\n",
      " 5   vote_count  250 non-null    int64  \n",
      "dtypes: float64(2), int64(1), object(3)\n",
      "memory usage: 11.8+ KB\n"
     ]
    }
   ],
   "source": [
    "TMDB.info()"
   ]
  },
  {
   "cell_type": "markdown",
   "metadata": {},
   "source": [
    "### Export to csv"
   ]
  },
  {
   "cell_type": "code",
   "execution_count": 82,
   "metadata": {},
   "outputs": [],
   "source": [
    "TMDB.to_csv('../02.data_csv/CLEAN/TMDB.csv')"
   ]
  },
  {
   "cell_type": "markdown",
   "metadata": {},
   "source": [
    "# Metacritic"
   ]
  },
  {
   "cell_type": "code",
   "execution_count": 83,
   "metadata": {},
   "outputs": [],
   "source": [
    "mtc = pd.read_csv('../02.data_csv/metacritic_movies.csv')"
   ]
  },
  {
   "cell_type": "code",
   "execution_count": 84,
   "metadata": {},
   "outputs": [
    {
     "data": {
      "text/html": [
       "<div>\n",
       "<style scoped>\n",
       "    .dataframe tbody tr th:only-of-type {\n",
       "        vertical-align: middle;\n",
       "    }\n",
       "\n",
       "    .dataframe tbody tr th {\n",
       "        vertical-align: top;\n",
       "    }\n",
       "\n",
       "    .dataframe thead th {\n",
       "        text-align: right;\n",
       "    }\n",
       "</style>\n",
       "<table border=\"1\" class=\"dataframe\">\n",
       "  <thead>\n",
       "    <tr style=\"text-align: right;\">\n",
       "      <th></th>\n",
       "      <th>movie_title</th>\n",
       "      <th>release_date</th>\n",
       "      <th>genre</th>\n",
       "      <th>meta_mixed</th>\n",
       "      <th>meta_negative</th>\n",
       "      <th>meta_positive</th>\n",
       "      <th>metascore</th>\n",
       "      <th>user_mixed</th>\n",
       "      <th>user_negative</th>\n",
       "      <th>user_positive</th>\n",
       "      <th>userscore</th>\n",
       "    </tr>\n",
       "  </thead>\n",
       "  <tbody>\n",
       "    <tr>\n",
       "      <th>0</th>\n",
       "      <td>Anatomy of a Murder</td>\n",
       "      <td>1-Jul-59</td>\n",
       "      <td>Drama,Mystery,Thriller,Crime</td>\n",
       "      <td>0</td>\n",
       "      <td>0</td>\n",
       "      <td>15</td>\n",
       "      <td>95</td>\n",
       "      <td>0</td>\n",
       "      <td>0</td>\n",
       "      <td>3</td>\n",
       "      <td>tbd</td>\n",
       "    </tr>\n",
       "    <tr>\n",
       "      <th>1</th>\n",
       "      <td>Bringing Up Baby</td>\n",
       "      <td>18-Feb-38</td>\n",
       "      <td>Comedy,Romance,Family</td>\n",
       "      <td>0</td>\n",
       "      <td>1</td>\n",
       "      <td>16</td>\n",
       "      <td>91</td>\n",
       "      <td>1</td>\n",
       "      <td>0</td>\n",
       "      <td>2</td>\n",
       "      <td>tbd</td>\n",
       "    </tr>\n",
       "    <tr>\n",
       "      <th>2</th>\n",
       "      <td>After Life</td>\n",
       "      <td>12-May-99</td>\n",
       "      <td>Drama,Fantasy</td>\n",
       "      <td>0</td>\n",
       "      <td>0</td>\n",
       "      <td>19</td>\n",
       "      <td>91</td>\n",
       "      <td>0</td>\n",
       "      <td>2</td>\n",
       "      <td>1</td>\n",
       "      <td>tbd</td>\n",
       "    </tr>\n",
       "    <tr>\n",
       "      <th>3</th>\n",
       "      <td>Gavagai</td>\n",
       "      <td>3-Aug-18</td>\n",
       "      <td>Drama</td>\n",
       "      <td>1</td>\n",
       "      <td>0</td>\n",
       "      <td>6</td>\n",
       "      <td>91</td>\n",
       "      <td>0</td>\n",
       "      <td>1</td>\n",
       "      <td>2</td>\n",
       "      <td>tbd</td>\n",
       "    </tr>\n",
       "    <tr>\n",
       "      <th>4</th>\n",
       "      <td>The Hustler</td>\n",
       "      <td>25-Sep-61</td>\n",
       "      <td>Drama,Sport</td>\n",
       "      <td>1</td>\n",
       "      <td>0</td>\n",
       "      <td>17</td>\n",
       "      <td>90</td>\n",
       "      <td>0</td>\n",
       "      <td>0</td>\n",
       "      <td>3</td>\n",
       "      <td>tbd</td>\n",
       "    </tr>\n",
       "    <tr>\n",
       "      <th>...</th>\n",
       "      <td>...</td>\n",
       "      <td>...</td>\n",
       "      <td>...</td>\n",
       "      <td>...</td>\n",
       "      <td>...</td>\n",
       "      <td>...</td>\n",
       "      <td>...</td>\n",
       "      <td>...</td>\n",
       "      <td>...</td>\n",
       "      <td>...</td>\n",
       "      <td>...</td>\n",
       "    </tr>\n",
       "    <tr>\n",
       "      <th>9116</th>\n",
       "      <td>Wild Reeds</td>\n",
       "      <td>10-May-95</td>\n",
       "      <td>Drama</td>\n",
       "      <td>2</td>\n",
       "      <td>0</td>\n",
       "      <td>11</td>\n",
       "      <td>80</td>\n",
       "      <td>1</td>\n",
       "      <td>0</td>\n",
       "      <td>3</td>\n",
       "      <td>8</td>\n",
       "    </tr>\n",
       "    <tr>\n",
       "      <th>9117</th>\n",
       "      <td>No Home Movie</td>\n",
       "      <td>1-Apr-16</td>\n",
       "      <td>Documentary</td>\n",
       "      <td>3</td>\n",
       "      <td>0</td>\n",
       "      <td>7</td>\n",
       "      <td>78</td>\n",
       "      <td>1</td>\n",
       "      <td>0</td>\n",
       "      <td>3</td>\n",
       "      <td>7.8</td>\n",
       "    </tr>\n",
       "    <tr>\n",
       "      <th>9118</th>\n",
       "      <td>Solas</td>\n",
       "      <td>8-Sep-00</td>\n",
       "      <td>Drama</td>\n",
       "      <td>2</td>\n",
       "      <td>0</td>\n",
       "      <td>14</td>\n",
       "      <td>75</td>\n",
       "      <td>1</td>\n",
       "      <td>0</td>\n",
       "      <td>3</td>\n",
       "      <td>7.5</td>\n",
       "    </tr>\n",
       "    <tr>\n",
       "      <th>9119</th>\n",
       "      <td>J.T. Leroy</td>\n",
       "      <td>26-Apr-19</td>\n",
       "      <td>Biography,Drama</td>\n",
       "      <td>13</td>\n",
       "      <td>0</td>\n",
       "      <td>10</td>\n",
       "      <td>55</td>\n",
       "      <td>2</td>\n",
       "      <td>1</td>\n",
       "      <td>1</td>\n",
       "      <td>5.5</td>\n",
       "    </tr>\n",
       "    <tr>\n",
       "      <th>9120</th>\n",
       "      <td>Donnybrook</td>\n",
       "      <td>15-Feb-19</td>\n",
       "      <td>Drama</td>\n",
       "      <td>3</td>\n",
       "      <td>4</td>\n",
       "      <td>8</td>\n",
       "      <td>53</td>\n",
       "      <td>1</td>\n",
       "      <td>1</td>\n",
       "      <td>2</td>\n",
       "      <td>5.3</td>\n",
       "    </tr>\n",
       "  </tbody>\n",
       "</table>\n",
       "<p>9121 rows × 11 columns</p>\n",
       "</div>"
      ],
      "text/plain": [
       "              movie_title release_date                         genre  \\\n",
       "0     Anatomy of a Murder     1-Jul-59  Drama,Mystery,Thriller,Crime   \n",
       "1        Bringing Up Baby    18-Feb-38         Comedy,Romance,Family   \n",
       "2              After Life    12-May-99                 Drama,Fantasy   \n",
       "3                 Gavagai     3-Aug-18                         Drama   \n",
       "4             The Hustler    25-Sep-61                   Drama,Sport   \n",
       "...                   ...          ...                           ...   \n",
       "9116           Wild Reeds    10-May-95                         Drama   \n",
       "9117        No Home Movie     1-Apr-16                   Documentary   \n",
       "9118                Solas     8-Sep-00                         Drama   \n",
       "9119           J.T. Leroy    26-Apr-19               Biography,Drama   \n",
       "9120           Donnybrook    15-Feb-19                         Drama   \n",
       "\n",
       "      meta_mixed  meta_negative  meta_positive  metascore user_mixed  \\\n",
       "0              0              0             15         95          0   \n",
       "1              0              1             16         91          1   \n",
       "2              0              0             19         91          0   \n",
       "3              1              0              6         91          0   \n",
       "4              1              0             17         90          0   \n",
       "...          ...            ...            ...        ...        ...   \n",
       "9116           2              0             11         80          1   \n",
       "9117           3              0              7         78          1   \n",
       "9118           2              0             14         75          1   \n",
       "9119          13              0             10         55          2   \n",
       "9120           3              4              8         53          1   \n",
       "\n",
       "     user_negative user_positive userscore  \n",
       "0                0             3       tbd  \n",
       "1                0             2       tbd  \n",
       "2                2             1       tbd  \n",
       "3                1             2       tbd  \n",
       "4                0             3       tbd  \n",
       "...            ...           ...       ...  \n",
       "9116             0             3         8  \n",
       "9117             0             3       7.8  \n",
       "9118             0             3       7.5  \n",
       "9119             1             1       5.5  \n",
       "9120             1             2       5.3  \n",
       "\n",
       "[9121 rows x 11 columns]"
      ]
     },
     "execution_count": 84,
     "metadata": {},
     "output_type": "execute_result"
    }
   ],
   "source": [
    "metacritic = pd.DataFrame(mtc)\n",
    "metacritic"
   ]
  },
  {
   "cell_type": "code",
   "execution_count": 85,
   "metadata": {},
   "outputs": [
    {
     "name": "stdout",
     "output_type": "stream",
     "text": [
      "<class 'pandas.core.frame.DataFrame'>\n",
      "RangeIndex: 9121 entries, 0 to 9120\n",
      "Data columns (total 11 columns):\n",
      " #   Column         Non-Null Count  Dtype \n",
      "---  ------         --------------  ----- \n",
      " 0   movie_title    9121 non-null   object\n",
      " 1   release_date   9121 non-null   object\n",
      " 2   genre          9121 non-null   object\n",
      " 3   meta_mixed     9121 non-null   int64 \n",
      " 4   meta_negative  9121 non-null   int64 \n",
      " 5   meta_positive  9121 non-null   int64 \n",
      " 6   metascore      9121 non-null   int64 \n",
      " 7   user_mixed     9121 non-null   object\n",
      " 8   user_negative  9121 non-null   object\n",
      " 9   user_positive  9121 non-null   object\n",
      " 10  userscore      9121 non-null   object\n",
      "dtypes: int64(4), object(7)\n",
      "memory usage: 784.0+ KB\n"
     ]
    }
   ],
   "source": [
    "metacritic.info()"
   ]
  },
  {
   "cell_type": "code",
   "execution_count": 86,
   "metadata": {},
   "outputs": [],
   "source": [
    "metacritic = metacritic[['movie_title', 'genre', 'metascore', 'userscore']]"
   ]
  },
  {
   "cell_type": "code",
   "execution_count": 90,
   "metadata": {},
   "outputs": [
    {
     "data": {
      "text/html": [
       "<div>\n",
       "<style scoped>\n",
       "    .dataframe tbody tr th:only-of-type {\n",
       "        vertical-align: middle;\n",
       "    }\n",
       "\n",
       "    .dataframe tbody tr th {\n",
       "        vertical-align: top;\n",
       "    }\n",
       "\n",
       "    .dataframe thead th {\n",
       "        text-align: right;\n",
       "    }\n",
       "</style>\n",
       "<table border=\"1\" class=\"dataframe\">\n",
       "  <thead>\n",
       "    <tr style=\"text-align: right;\">\n",
       "      <th></th>\n",
       "      <th>movie_title</th>\n",
       "      <th>genre</th>\n",
       "      <th>metascore</th>\n",
       "      <th>userscore</th>\n",
       "    </tr>\n",
       "  </thead>\n",
       "  <tbody>\n",
       "    <tr>\n",
       "      <th>9116</th>\n",
       "      <td>Wild Reeds</td>\n",
       "      <td>Drama</td>\n",
       "      <td>80</td>\n",
       "      <td>8</td>\n",
       "    </tr>\n",
       "    <tr>\n",
       "      <th>9117</th>\n",
       "      <td>No Home Movie</td>\n",
       "      <td>Documentary</td>\n",
       "      <td>78</td>\n",
       "      <td>7.8</td>\n",
       "    </tr>\n",
       "    <tr>\n",
       "      <th>9118</th>\n",
       "      <td>Solas</td>\n",
       "      <td>Drama</td>\n",
       "      <td>75</td>\n",
       "      <td>7.5</td>\n",
       "    </tr>\n",
       "    <tr>\n",
       "      <th>9119</th>\n",
       "      <td>J.T. Leroy</td>\n",
       "      <td>Biography,Drama</td>\n",
       "      <td>55</td>\n",
       "      <td>5.5</td>\n",
       "    </tr>\n",
       "    <tr>\n",
       "      <th>9120</th>\n",
       "      <td>Donnybrook</td>\n",
       "      <td>Drama</td>\n",
       "      <td>53</td>\n",
       "      <td>5.3</td>\n",
       "    </tr>\n",
       "  </tbody>\n",
       "</table>\n",
       "</div>"
      ],
      "text/plain": [
       "        movie_title            genre  metascore userscore\n",
       "9116     Wild Reeds            Drama         80         8\n",
       "9117  No Home Movie      Documentary         78       7.8\n",
       "9118          Solas            Drama         75       7.5\n",
       "9119     J.T. Leroy  Biography,Drama         55       5.5\n",
       "9120     Donnybrook            Drama         53       5.3"
      ]
     },
     "execution_count": 90,
     "metadata": {},
     "output_type": "execute_result"
    }
   ],
   "source": [
    "metacritic.tail()"
   ]
  },
  {
   "cell_type": "code",
   "execution_count": 91,
   "metadata": {},
   "outputs": [],
   "source": [
    "metacritic = metacritic.rename(columns={'movie_title': 'Title'})"
   ]
  },
  {
   "cell_type": "code",
   "execution_count": 93,
   "metadata": {},
   "outputs": [],
   "source": [
    "metacritic['metascore'] = metacritic['metascore'].apply(lambda x: x*0.1)"
   ]
  },
  {
   "cell_type": "code",
   "execution_count": 106,
   "metadata": {},
   "outputs": [],
   "source": [
    "metacritic = metacritic.rename(columns={'genre': 'Genre', 'metascore': ' Meta Score', 'userscore': ' User Score'})"
   ]
  },
  {
   "cell_type": "code",
   "execution_count": 115,
   "metadata": {},
   "outputs": [],
   "source": [
    "metacritic = metacritic.drop(' User Score', axis=1)"
   ]
  },
  {
   "cell_type": "code",
   "execution_count": 117,
   "metadata": {},
   "outputs": [],
   "source": [
    "metacritic.to_csv('../02.data_csv/CLEAN/METACRITIC.csv')"
   ]
  }
 ],
 "metadata": {
  "kernelspec": {
   "display_name": "clase",
   "language": "python",
   "name": "python3"
  },
  "language_info": {
   "codemirror_mode": {
    "name": "ipython",
    "version": 3
   },
   "file_extension": ".py",
   "mimetype": "text/x-python",
   "name": "python",
   "nbconvert_exporter": "python",
   "pygments_lexer": "ipython3",
   "version": "3.10.13"
  }
 },
 "nbformat": 4,
 "nbformat_minor": 2
}
